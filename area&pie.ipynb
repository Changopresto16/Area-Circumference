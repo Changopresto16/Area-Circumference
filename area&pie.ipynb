{
 "cells": [
  {
   "cell_type": "code",
   "execution_count": 1,
   "metadata": {},
   "outputs": [
    {
     "name": "stdout",
     "output_type": "stream",
     "text": [
      "Area of house is: 1476.00\n"
     ]
    }
   ],
   "source": [
    "w = float(input('Pleased enter the Width of the House:'))\n",
    "h = float(input('Please enter the Height of the House:'))\n",
    "\n",
    "Area = w * h\n",
    "\n",
    "print('Area of house is: %.2f' %Area)"
   ]
  },
  {
   "cell_type": "code",
   "execution_count": 2,
   "metadata": {},
   "outputs": [
    {
     "name": "stdout",
     "output_type": "stream",
     "text": [
      "Circumference of the circle is : 75.40\n"
     ]
    }
   ],
   "source": [
    "import math\n",
    "radius = float(input(\"enter the radius of the circle: \"))\n",
    "\n",
    "circumference = 2 * math.pi * radius \n",
    "\n",
    "print(\"Circumference of the circle is : %.2f\" % circumference)"
   ]
  }
 ],
 "metadata": {
  "kernelspec": {
   "display_name": "Python 3.9.7 ('base')",
   "language": "python",
   "name": "python3"
  },
  "language_info": {
   "codemirror_mode": {
    "name": "ipython",
    "version": 3
   },
   "file_extension": ".py",
   "mimetype": "text/x-python",
   "name": "python",
   "nbconvert_exporter": "python",
   "pygments_lexer": "ipython3",
   "version": "3.9.7"
  },
  "orig_nbformat": 4,
  "vscode": {
   "interpreter": {
    "hash": "2c17cdae881039898e019dde816ef025ab5528b4115dbe62b08e3ff91b305481"
   }
  }
 },
 "nbformat": 4,
 "nbformat_minor": 2
}
